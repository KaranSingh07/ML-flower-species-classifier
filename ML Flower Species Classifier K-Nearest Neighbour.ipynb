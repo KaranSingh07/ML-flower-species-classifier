{
  "nbformat": 4,
  "nbformat_minor": 0,
  "metadata": {
    "colab": {
      "name": "Karan_Singh_Solanki.ipynb",
      "provenance": [],
      "collapsed_sections": []
    },
    "kernelspec": {
      "name": "python3",
      "display_name": "Python 3"
    }
  },
  "cells": [
    {
      "cell_type": "markdown",
      "metadata": {
        "id": "5733uvH307un"
      },
      "source": [
        "# **Flower Species Classifier**\r\n",
        "## A Supervised Machine Learning Classification Project\r\n",
        "    By Karan Singh Solanki as ShapeAI ML Bootcamp Project\r\n",
        "---\r\n",
        "### Algorithm used: [K-nearest neighbour (KNN)](https://youtu.be/SQ84-3uwKLk?t=3007)\r\n",
        "### Dataset used: iris_dataset (iris plants dataset) of sklearn datasets\r\n",
        "### Description...\r\n",
        "- It takes data of various flowers, each flower having length of petals and sepals (part of a flower).\r\n",
        "- Each flower is labelled with its species, there are total of 3 species (or classes)\r\n",
        "- This model learns from the data of flowers and their species\r\n",
        "\r\n",
        "### The task is, whenever a new flower data is given to the model, it should predict the species of the new flower.\r\n"
      ]
    },
    {
      "cell_type": "markdown",
      "metadata": {
        "id": "UCZmnFraCB6U"
      },
      "source": [
        "# **About the scikit learn iris dataset and analyzing what's inside...**"
      ]
    },
    {
      "cell_type": "markdown",
      "metadata": {
        "id": "tawH9Xm8e4me"
      },
      "source": [
        "Importing important required libraries"
      ]
    },
    {
      "cell_type": "code",
      "metadata": {
        "id": "Yukwq_9z1fQK"
      },
      "source": [
        "import numpy as np\r\n",
        "import pandas as pd   # np and pd are just python conventions for these two"
      ],
      "execution_count": 83,
      "outputs": []
    },
    {
      "cell_type": "markdown",
      "metadata": {
        "id": "Bwd5Ra34e-3q"
      },
      "source": [
        "Loading the dataset"
      ]
    },
    {
      "cell_type": "code",
      "metadata": {
        "id": "NGF5iDsy3vw1"
      },
      "source": [
        "from sklearn.datasets import load_iris\r\n",
        "iris_dataset = load_iris()"
      ],
      "execution_count": 7,
      "outputs": []
    },
    {
      "cell_type": "code",
      "metadata": {
        "colab": {
          "base_uri": "https://localhost:8080/"
        },
        "id": "uMXApsyE4New",
        "outputId": "c2826a7f-252b-4563-cd9c-84792b93ad69"
      },
      "source": [
        "print(f\"Keys of iris_dataset: \\n{iris_dataset.keys()}\")"
      ],
      "execution_count": 8,
      "outputs": [
        {
          "output_type": "stream",
          "text": [
            "Keys of iris_dataset: \n",
            "dict_keys(['data', 'target', 'target_names', 'DESCR', 'feature_names', 'filename'])\n"
          ],
          "name": "stdout"
        }
      ]
    },
    {
      "cell_type": "code",
      "metadata": {
        "colab": {
          "base_uri": "https://localhost:8080/"
        },
        "id": "8X4XBlIl4bEC",
        "outputId": "591c0d2f-c8b0-41b3-8dbe-2e3bfe0cf4ab"
      },
      "source": [
        "short_desc = iris_dataset['DESCR'][:230]\r\n",
        "print(\"Short Description: \\n\" + short_desc + \"\\n...\")"
      ],
      "execution_count": 17,
      "outputs": [
        {
          "output_type": "stream",
          "text": [
            "Short Description: \n",
            ".. _iris_dataset:\n",
            "\n",
            "Iris plants dataset\n",
            "--------------------\n",
            "\n",
            "**Data Set Characteristics:**\n",
            "\n",
            "    :Number of Instances: 150 (50 in each of three classes)\n",
            "    :Number of Attributes: 4 numeric, predictive attributes and the class\n",
            "    \n",
            "...\n"
          ],
          "name": "stdout"
        }
      ]
    },
    {
      "cell_type": "code",
      "metadata": {
        "colab": {
          "base_uri": "https://localhost:8080/"
        },
        "id": "taV7u77X4gCh",
        "outputId": "78107a59-5e30-49a6-b643-4317e69d4117"
      },
      "source": [
        "# 3 classes of flowers\r\n",
        "target_names = iris_dataset['target_names']\r\n",
        "print(f\"Target names (3 Classes of flowers):\\n{target_names}\")"
      ],
      "execution_count": 97,
      "outputs": [
        {
          "output_type": "stream",
          "text": [
            "Target names (3 Classes of flowers):\n",
            "['setosa' 'versicolor' 'virginica']\n"
          ],
          "name": "stdout"
        }
      ]
    },
    {
      "cell_type": "code",
      "metadata": {
        "colab": {
          "base_uri": "https://localhost:8080/"
        },
        "id": "9v1d8LHr6z-C",
        "outputId": "300638f1-e9ad-46ca-cd1c-fc37ca7be463"
      },
      "source": [
        "# Features of dataset (more columns)\r\n",
        "print(f\"Feature names (description of each features):\\n{iris_dataset['feature_names']}\")"
      ],
      "execution_count": 77,
      "outputs": [
        {
          "output_type": "stream",
          "text": [
            "Feature names (description of each features):\n",
            "['sepal length (cm)', 'sepal width (cm)', 'petal length (cm)', 'petal width (cm)']\n"
          ],
          "name": "stdout"
        }
      ]
    },
    {
      "cell_type": "code",
      "metadata": {
        "colab": {
          "base_uri": "https://localhost:8080/"
        },
        "id": "DVOGEIEI7jbH",
        "outputId": "be62f798-9076-4528-d04f-20b956f438b7"
      },
      "source": [
        "data = iris_dataset['data']\r\n",
        "print(f\"Type of data: {type(data)}\")   # numpy.ndarray\r\n",
        "print(f\"Shape of data: {data.shape}\")  \r\n",
        "\r\n",
        "print(f\"{data.shape[0]} instances of flowers each having {data.shape[1]} feature printed above\")"
      ],
      "execution_count": 76,
      "outputs": [
        {
          "output_type": "stream",
          "text": [
            "Type of data: <class 'numpy.ndarray'>\n",
            "Shape of data: (150, 4)\n",
            "150 instances of flowers each having 4 feature printed above\n"
          ],
          "name": "stdout"
        }
      ]
    },
    {
      "cell_type": "code",
      "metadata": {
        "colab": {
          "base_uri": "https://localhost:8080/"
        },
        "id": "sDoLEVjQ7xbw",
        "outputId": "a9f8872e-4876-4cdd-fabe-f30b620e24a6"
      },
      "source": [
        "print(f\"First 5 rows (data pointes/samples) of data:\\n{data[:5]}\")"
      ],
      "execution_count": 48,
      "outputs": [
        {
          "output_type": "stream",
          "text": [
            "First 5 rows (data pointes/samples) of data:\n",
            "[[5.1 3.5 1.4 0.2]\n",
            " [4.9 3.  1.4 0.2]\n",
            " [4.7 3.2 1.3 0.2]\n",
            " [4.6 3.1 1.5 0.2]\n",
            " [5.  3.6 1.4 0.2]]\n"
          ],
          "name": "stdout"
        }
      ]
    },
    {
      "cell_type": "code",
      "metadata": {
        "colab": {
          "base_uri": "https://localhost:8080/"
        },
        "id": "-9UAkoXB9X1E",
        "outputId": "604790e2-4f72-4fb6-e685-5a58d6cbeced"
      },
      "source": [
        "target = iris_dataset['target']\r\n",
        "print(f\"Type of target: {type(target)}\")\r\n",
        "print(f\"Shape of target: {target.shape}\")  # Only a single column"
      ],
      "execution_count": 52,
      "outputs": [
        {
          "output_type": "stream",
          "text": [
            "Type of target: <class 'numpy.ndarray'>\n",
            "Shape of target: (150,)\n"
          ],
          "name": "stdout"
        }
      ]
    },
    {
      "cell_type": "code",
      "metadata": {
        "colab": {
          "base_uri": "https://localhost:8080/"
        },
        "id": "xgld0l48_RZA",
        "outputId": "c2a19ed2-a54b-449f-aee6-f5438f67c814"
      },
      "source": [
        "print(f\"Target (Species code):\\n{target}\")\r\n",
        "print(\"\\n0: setosa, 1: versicolor, 2: virginica\")"
      ],
      "execution_count": 61,
      "outputs": [
        {
          "output_type": "stream",
          "text": [
            "Target (Species code):\n",
            "[0 0 0 0 0 0 0 0 0 0 0 0 0 0 0 0 0 0 0 0 0 0 0 0 0 0 0 0 0 0 0 0 0 0 0 0 0\n",
            " 0 0 0 0 0 0 0 0 0 0 0 0 0 1 1 1 1 1 1 1 1 1 1 1 1 1 1 1 1 1 1 1 1 1 1 1 1\n",
            " 1 1 1 1 1 1 1 1 1 1 1 1 1 1 1 1 1 1 1 1 1 1 1 1 1 1 2 2 2 2 2 2 2 2 2 2 2\n",
            " 2 2 2 2 2 2 2 2 2 2 2 2 2 2 2 2 2 2 2 2 2 2 2 2 2 2 2 2 2 2 2 2 2 2 2 2 2\n",
            " 2 2]\n",
            "\n",
            "0: setosa, 1: versicolor, 2: virginica\n"
          ],
          "name": "stdout"
        }
      ]
    },
    {
      "cell_type": "markdown",
      "metadata": {
        "id": "SNyPHtf8CSrr"
      },
      "source": [
        "# **Actual Training and Testing begins here...**"
      ]
    },
    {
      "cell_type": "markdown",
      "metadata": {
        "id": "9XqVRIt4Hckr"
      },
      "source": [
        "### Dividing the whole data into training and testing data...\r\n",
        "We have to divide the whole data into two parts, 75% will be used for training of the model and rest of 25% will be used for testing of the model.\r\n",
        "\r\n",
        "This training can be thought as studying for the exam, and testing can be thought as the actual exam. On the basis of this exam (or test) score or accuracy of our model can be determined.\r\n",
        "\r\n",
        "sklearn.model_selection package have a function train_test_split() which splits the data for the this purpose.\r\n",
        "\r\n",
        "Capital X represents the attributes(width of petals and sepals) and small y represents the labels (flower species)\r\n",
        "\r\n",
        "So we'll have X and y for both train and test data, and thus there are four variables...\r\n",
        "\r\n",
        "X_train: attributes for training\r\n",
        "\r\n",
        "X_test: attributes for testing\r\n",
        "\r\n",
        "y_train: labels for training\r\n",
        "\r\n",
        "y_test: labels for testing"
      ]
    },
    {
      "cell_type": "code",
      "metadata": {
        "id": "CzJel7uQBoFr"
      },
      "source": [
        "from sklearn.model_selection import train_test_split\r\n",
        "# I've stored the values of dictionary keys in variables data and target\r\n",
        "X_train, X_test, y_train, y_test = train_test_split(\r\n",
        "    data, target, random_state = 0\r\n",
        ")\r\n"
      ],
      "execution_count": 80,
      "outputs": []
    },
    {
      "cell_type": "markdown",
      "metadata": {
        "id": "SKf1lnS7LGdE"
      },
      "source": [
        "### What does random_state = 0 do?\r\n",
        "random_state = 0 ensures that all the data will be rearranged randomly and\r\n",
        "then only the data will be splitted.\r\n",
        "If we don't do this, the training data will contain first 75% rows and rest\r\n",
        "25% rows will go to test data. Now the problem is there will be very few \r\n",
        "training for third species and testing will be for third species entirely. "
      ]
    },
    {
      "cell_type": "markdown",
      "metadata": {
        "id": "lcCaeJGrMSxa"
      },
      "source": [
        "Let's see how our splitting worked..."
      ]
    },
    {
      "cell_type": "code",
      "metadata": {
        "colab": {
          "base_uri": "https://localhost:8080/"
        },
        "id": "Jo25liLiJF3C",
        "outputId": "333b6a1e-ed1d-4239-849f-fe830ab33383"
      },
      "source": [
        "print(f\"X train shape: {X_train.shape}\")  # 4 attributes\r\n",
        "print(f\"X test shape: {X_test.shape}\")    # 4 attributes\r\n",
        "print(f\"y train shape: {y_train.shape}\")  # 1 label\r\n",
        "print(f\"y test shape: {y_test.shape}\")    # 1 label"
      ],
      "execution_count": 84,
      "outputs": [
        {
          "output_type": "stream",
          "text": [
            "X train shape: (112, 4)\n",
            "X test shape: (38, 4)\n",
            "y train shape: (112,)\n",
            "y test shape: (38,)\n"
          ],
          "name": "stdout"
        }
      ]
    },
    {
      "cell_type": "markdown",
      "metadata": {
        "id": "QU1nVT-oWnMy"
      },
      "source": [
        "### Building our model...\r\n",
        "using actual K-Nearest Neighbour Algorithm from sklearn"
      ]
    },
    {
      "cell_type": "code",
      "metadata": {
        "id": "gJkqZBbtWPES"
      },
      "source": [
        "from sklearn.neighbors import KNeighborsClassifier\r\n",
        "knn = KNeighborsClassifier(n_neighbors=1)"
      ],
      "execution_count": 87,
      "outputs": []
    },
    {
      "cell_type": "markdown",
      "metadata": {
        "id": "4hjPxTuEXNUF"
      },
      "source": [
        "### Training our model created just above..."
      ]
    },
    {
      "cell_type": "code",
      "metadata": {
        "colab": {
          "base_uri": "https://localhost:8080/"
        },
        "id": "k7jHd1NUXW6O",
        "outputId": "b1bd6b87-273d-438e-ec38-8eb7236234c5"
      },
      "source": [
        "knn.fit(X_train, y_train)\r\n",
        "\r\n",
        "# Model will be trained by this X_train and y_train training data"
      ],
      "execution_count": 91,
      "outputs": [
        {
          "output_type": "execute_result",
          "data": {
            "text/plain": [
              "KNeighborsClassifier(algorithm='auto', leaf_size=30, metric='minkowski',\n",
              "                     metric_params=None, n_jobs=None, n_neighbors=1, p=2,\n",
              "                     weights='uniform')"
            ]
          },
          "metadata": {
            "tags": []
          },
          "execution_count": 91
        }
      ]
    },
    {
      "cell_type": "markdown",
      "metadata": {
        "id": "60F8ZRHGX-8N"
      },
      "source": [
        "### Training done, let's test our model (Make Predictions)..."
      ]
    },
    {
      "cell_type": "code",
      "metadata": {
        "colab": {
          "base_uri": "https://localhost:8080/"
        },
        "id": "g60-HWhNX4Ti",
        "outputId": "149beffb-cf5a-4100-c81f-4c65426dce95"
      },
      "source": [
        "# Just predicting for one flower which have measurements: [5, 2.9, 1, 0.2]\r\n",
        "# We've put this is 2D array because scikit-learn expects 2D array for the data.\r\n",
        "\r\n",
        "X_new = np.array([[5, 2.9, 1, 0.2]])\r\n",
        "print(f\"Shape of X_new: {X_new.shape}\")"
      ],
      "execution_count": 93,
      "outputs": [
        {
          "output_type": "stream",
          "text": [
            "Shape of X_new: (1, 4)\n"
          ],
          "name": "stdout"
        }
      ]
    },
    {
      "cell_type": "code",
      "metadata": {
        "colab": {
          "base_uri": "https://localhost:8080/"
        },
        "id": "3K_ULvYJZhj3",
        "outputId": "5f77b15f-b016-4398-916b-fb41fb7039f9"
      },
      "source": [
        "prediction = knn.predict(X_new)\r\n",
        "\r\n",
        "print(f\"Prediction: {prediction}\")\r\n",
        "print(f\"Predicted target (species) name: {target_names[prediction]}\")\r\n",
        "\r\n",
        "print(f\"\\nSo, according to our model, this new X_new flower is of type {target_names[prediction]}\")"
      ],
      "execution_count": 100,
      "outputs": [
        {
          "output_type": "stream",
          "text": [
            "Prediction: [0]\n",
            "Predicted target (species) name: ['setosa']\n",
            "\n",
            "So, according to our model, this new X_new flower is of type ['setosa']\n"
          ],
          "name": "stdout"
        }
      ]
    },
    {
      "cell_type": "markdown",
      "metadata": {
        "id": "u0pdM6inbYBU"
      },
      "source": [
        "## Evaluation and Testing our model\r\n",
        "\r\n",
        "from that 25% data of which we know the answers, so that we can evaluate and give score."
      ]
    },
    {
      "cell_type": "code",
      "metadata": {
        "colab": {
          "base_uri": "https://localhost:8080/"
        },
        "id": "brTxo5VacAzG",
        "outputId": "00f75464-7291-4786-83a7-4f0ac58faafa"
      },
      "source": [
        "# Let's test for X_test data\r\n",
        "\r\n",
        "y_pred = knn.predict(X_test)\r\n",
        "print(f\"Test set predictions:\\n{y_pred}\")"
      ],
      "execution_count": 101,
      "outputs": [
        {
          "output_type": "stream",
          "text": [
            "Test set predictions:\n",
            "[2 1 0 2 0 2 0 1 1 1 2 1 1 1 1 0 1 1 0 0 2 1 0 0 2 0 0 1 1 0 2 1 0 2 2 1 0\n",
            " 2]\n"
          ],
          "name": "stdout"
        }
      ]
    },
    {
      "cell_type": "markdown",
      "metadata": {
        "id": "3hZoUA2dc63W"
      },
      "source": [
        "### Score (Accuracy) of our Model...\r\n",
        "\r\n",
        "y_test: The actual species values of that 25% flowers\r\n",
        "\r\n",
        "y_pred: The species values predicted by our model\r\n",
        "\r\n",
        "So, calculating mean will give us our accuracy.\r\n",
        "\r\n",
        "`np.mean(y_pred == y_test)` meaning it'll only calculate mean if our model have predicted the right value, it'll done for each value in our X_test."
      ]
    },
    {
      "cell_type": "code",
      "metadata": {
        "colab": {
          "base_uri": "https://localhost:8080/"
        },
        "id": "vhJl49XRdBtp",
        "outputId": "47940ad1-73d6-4b9a-df95-636e0a66308f"
      },
      "source": [
        "score = np.mean(y_pred == y_test)\r\n",
        "print(f\"Test set score: {score}\")"
      ],
      "execution_count": 108,
      "outputs": [
        {
          "output_type": "stream",
          "text": [
            "Test set score: 0.9736842105263158\n"
          ],
          "name": "stdout"
        }
      ]
    },
    {
      "cell_type": "code",
      "metadata": {
        "colab": {
          "base_uri": "https://localhost:8080/"
        },
        "id": "PIlOJ84tfYqA",
        "outputId": "6479f777-1ba5-4623-854a-9dd16d904e6d"
      },
      "source": [
        "print(f\"Accuracy in percentage: {round(score * 100, 2)} %\")"
      ],
      "execution_count": 109,
      "outputs": [
        {
          "output_type": "stream",
          "text": [
            "Accuracy in percentage: 97.37 %\n"
          ],
          "name": "stdout"
        }
      ]
    }
  ]
}